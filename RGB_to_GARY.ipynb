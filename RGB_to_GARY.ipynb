{
 "cells": [
  {
   "cell_type": "code",
   "execution_count": 1,
   "id": "263e8f37",
   "metadata": {},
   "outputs": [],
   "source": [
    "import cv2\n",
    "from matplotlib import pyplot as plt"
   ]
  },
  {
   "cell_type": "code",
   "execution_count": 2,
   "id": "0af9953d",
   "metadata": {},
   "outputs": [],
   "source": [
    "def is_gray(image):\n",
    "    lenShape = len(image.shape)\n",
    "    if lenShape < 3:\n",
    "        return True\n",
    "    return False"
   ]
  },
  {
   "cell_type": "code",
   "execution_count": 3,
   "id": "dec848d9",
   "metadata": {},
   "outputs": [],
   "source": [
    "def show_image(image):\n",
    "    cv2.imshow('Image', image)\n",
    "    cv2.waitKey(0) \n",
    "    cv2.destroyAllWindows() "
   ]
  },
  {
   "cell_type": "code",
   "execution_count": 5,
   "id": "9119a7df",
   "metadata": {},
   "outputs": [],
   "source": [
    "image = cv2.imread('1.png')\n",
    "#show_image(image)"
   ]
  },
  {
   "cell_type": "code",
   "execution_count": 6,
   "id": "bbc592bd",
   "metadata": {},
   "outputs": [
    {
     "data": {
      "text/plain": [
       "(1300, 928, 3)"
      ]
     },
     "execution_count": 6,
     "metadata": {},
     "output_type": "execute_result"
    }
   ],
   "source": [
    "image.shape"
   ]
  },
  {
   "cell_type": "code",
   "execution_count": 7,
   "id": "d9fa6e12",
   "metadata": {},
   "outputs": [
    {
     "name": "stdout",
     "output_type": "stream",
     "text": [
      "Image is not GrayScale and convert it to Gray \n",
      "is Gray\n"
     ]
    }
   ],
   "source": [
    "if not is_gray(image):\n",
    "    print('Image is not GrayScale and convert it to Gray ')\n",
    "    image = cv2.cvtColor(image, cv2.COLOR_BGR2GRAY)\n",
    "\n",
    "if is_gray(image):\n",
    "    print('is Gray')\n",
    "else:\n",
    "    print('Is RGB')"
   ]
  },
  {
   "cell_type": "code",
   "execution_count": 9,
   "id": "b27ce9ea",
   "metadata": {},
   "outputs": [],
   "source": [
    "show_image(image)"
   ]
  },
  {
   "cell_type": "code",
   "execution_count": null,
   "id": "9b0e87e1",
   "metadata": {},
   "outputs": [],
   "source": [
    "image.shape"
   ]
  },
  {
   "cell_type": "code",
   "execution_count": null,
   "id": "47189217",
   "metadata": {},
   "outputs": [],
   "source": []
  }
 ],
 "metadata": {
  "kernelspec": {
   "display_name": "Python 3 (ipykernel)",
   "language": "python",
   "name": "python3"
  },
  "language_info": {
   "codemirror_mode": {
    "name": "ipython",
    "version": 3
   },
   "file_extension": ".py",
   "mimetype": "text/x-python",
   "name": "python",
   "nbconvert_exporter": "python",
   "pygments_lexer": "ipython3",
   "version": "3.9.16"
  }
 },
 "nbformat": 4,
 "nbformat_minor": 5
}
